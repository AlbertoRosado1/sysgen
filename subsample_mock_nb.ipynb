{
 "cells": [
  {
   "cell_type": "markdown",
   "id": "0264d848-1c0e-4b3e-a5e9-7e954b21a2c6",
   "metadata": {},
   "source": [
    "# Subsampling mocks\n",
    "Using Mehdi's [code](https://github.com/mehdirezaie/LSSutils/blob/master/analysis/lssxcmb/scripts/subsample_mock.py)."
   ]
  },
  {
   "cell_type": "code",
   "execution_count": 1,
   "id": "b6270d64-67f4-4f4c-8075-7570d1d4189c",
   "metadata": {},
   "outputs": [],
   "source": [
    "# %matplotlib inline\n",
    "import healpy as hp\n",
    "import numpy as np\n",
    "import fitsio as ft\n",
    "import matplotlib.pyplot as plt"
   ]
  },
  {
   "cell_type": "code",
   "execution_count": 2,
   "id": "5cc0df48-7f40-422c-9a0e-958a29b7b945",
   "metadata": {},
   "outputs": [],
   "source": [
    "def radec2hpix(nside, ra, dec):\n",
    "    \"\"\" change ra,dec to HEALPix hpix with ring ordering \"\"\"\n",
    "    theta, phi = np.deg2rad(90.-dec), np.deg2rad(ra)\n",
    "    hpix = hp.ang2pix(nside, theta, phi, nest=False)     \n",
    "    return hpix\n",
    "\n",
    "def project2hp(nside, mock, weight=None):\n",
    "    \"\"\" count # of objects in HEALPix \"\"\"\n",
    "    ra = mock['RA']\n",
    "    dec = mock['DEC']\n",
    "    hpix = radec2hpix(nside, ra, dec)\n",
    "    return np.bincount(hpix, weights=weight, minlength=12*nside*nside)\n",
    "\n",
    "def downsample(selection_func, mock):\n",
    "    \"\"\" downsample a mock catalog with a given selection function \"\"\"\n",
    "    nside = hp.get_nside(selection_func)\n",
    "    hpix = radec2hpix(nside, mock['RA'], mock['DEC'])\n",
    "    prob = selection_func[hpix]    \n",
    "    good = np.random.uniform(size=mock.size) < prob\n",
    "    return mock[good]"
   ]
  },
  {
   "cell_type": "code",
   "execution_count": null,
   "id": "d90b922d-9629-4cb6-8871-65d785554fd8",
   "metadata": {},
   "outputs": [],
   "source": [
    "# read the mock catalog and selection function (obtained from real data)\n",
    "mock = ft.read('/global/cfs/cdirs/desi/cosmosim/FirstGenMocks/AbacusSummit/CutSky/LRG/z0.800/')\n",
    "ngal_pred = hp.read_map('/home/mehdi/data/alternative/results_elg/regression/nn_p/nn-weights.hp256.fits', \n",
    "                        verbose=False)"
   ]
  },
  {
   "cell_type": "code",
   "execution_count": null,
   "id": "244cab93-0ab7-41c6-a650-442c3bde0949",
   "metadata": {},
   "outputs": [],
   "source": [
    "# get nside from the selection function\n",
    "nside = hp.get_nside(ngal_pred)"
   ]
  },
  {
   "cell_type": "code",
   "execution_count": null,
   "id": "4c50fda4-4c7d-4d8e-8ea5-964b01530aba",
   "metadata": {},
   "outputs": [],
   "source": [
    "# normalize the selection function to [0, 1]\n",
    "good = ngal_pred>0\n",
    "vmin, vmax = np.percentile(ngal_pred[good], [0, 100])\n",
    "selection_func = np.zeros_like(ngal_pred)\n",
    "selection_func[good] = (ngal_pred[good]-vmin) / (vmax-vmin)"
   ]
  },
  {
   "cell_type": "code",
   "execution_count": null,
   "id": "c1f7dd41-f695-4dba-b081-f6b8c4cbed01",
   "metadata": {},
   "outputs": [],
   "source": [
    "# subsample the mock catalog, and project to HEALPix\n",
    "mock_after = downsample(selection_func, mock)\n",
    "mock_hp = project2hp(nside, mock)\n",
    "mock_hp_after = project2hp(nside, mock_after)"
   ]
  },
  {
   "cell_type": "code",
   "execution_count": null,
   "id": "7363e20f-a834-4118-bb13-3054c9f6340a",
   "metadata": {},
   "outputs": [],
   "source": [
    "#\n",
    "fig, ax = plt.subplots(nrows=3, figsize=(15, 20))\n",
    "for i, (mapi, title) in enumerate(zip([mock_hp, selection_func, mock_hp_after],\n",
    "                                      ['Clean Mock', 'Selection Func.', 'Cont. Mock'])):\n",
    "    plt.sca(ax[i])        \n",
    "    hp.mollview(mapi, title=title, hold=True, rot=-85)"
   ]
  }
 ],
 "metadata": {
  "kernelspec": {
   "display_name": "python (sysnet)",
   "language": "python",
   "name": "sysnet"
  },
  "language_info": {
   "codemirror_mode": {
    "name": "ipython",
    "version": 3
   },
   "file_extension": ".py",
   "mimetype": "text/x-python",
   "name": "python",
   "nbconvert_exporter": "python",
   "pygments_lexer": "ipython3",
   "version": "3.8.12"
  }
 },
 "nbformat": 4,
 "nbformat_minor": 5
}
