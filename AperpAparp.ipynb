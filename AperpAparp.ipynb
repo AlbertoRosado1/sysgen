{
 "cells": [
  {
   "cell_type": "code",
   "execution_count": 1,
   "id": "f17558e9-5370-4632-bda4-f6b29eae6d59",
   "metadata": {},
   "outputs": [],
   "source": [
    "import numpy as np"
   ]
  },
  {
   "cell_type": "code",
   "execution_count": 2,
   "id": "02c1aafd-9fb8-4ed7-b03c-a85cb3da62e6",
   "metadata": {},
   "outputs": [],
   "source": [
    "def AparAperp(fn):\n",
    "    f = np.loadtxt(fn)\n",
    "    \n",
    "    phs = [i for i in range(25)] \n",
    "\n",
    "    Apar = []\n",
    "    sig_Apar = []\n",
    "\n",
    "    Aperp = []\n",
    "    sig_Aperp = []\n",
    "\n",
    "    for ph in phs:\n",
    "        d = f[ph]\n",
    "\n",
    "        Apar.append(d[1])\n",
    "        sig_Apar.append(d[2])\n",
    "\n",
    "        Aperp.append(d[3])\n",
    "        sig_Aperp.append(d[4])\n",
    "\n",
    "\n",
    "    Apar = np.array(Apar)\n",
    "    sig_Apar = np.array(sig_Apar)\n",
    "\n",
    "    Aperp = np.array(Aperp)\n",
    "    sig_Aperp = np.array(sig_Aperp)\n",
    "    \n",
    "    return (Apar,sig_Apar), (Aperp, sig_Aperp)\n",
    "\n",
    "def AparAperp_mean(fn):\n",
    "    Apar, Aperp = AparAperp(fn)\n",
    "    return (Apar[0].mean(),Apar[1].mean()), (Aperp[0].mean(), Aperp[1].mean())\n",
    "\n",
    "def delta_alpha(fn1,fn2):\n",
    "    Apar1, Aperp1 = AparAperp(fn1)\n",
    "    Apar2, Aperp2 = AparAperp(fn2)\n",
    "    \n",
    "    delta_Apar = Apar2[0] - Apar1[0]\n",
    "    delta_Apar_mean = delta_Apar.mean()\n",
    "    sig_delta_Apar = np.std(delta_Apar)/np.sqrt(25) #Apar2[1] - Apar1[1]\n",
    "    \n",
    "    delta_Aperp = Aperp2[0] - Aperp1[0]\n",
    "    delta_Aperp_mean = delta_Aperp.mean()\n",
    "    sig_delta_Aperp = np.std(delta_Aperp)/np.sqrt(25) #Aperp2[1] - Aperp1[1]\n",
    "    \n",
    "    return (delta_Apar.mean(),sig_delta_Apar), (delta_Aperp.mean(), sig_delta_Aperp)"
   ]
  },
  {
   "cell_type": "code",
   "execution_count": 3,
   "id": "88ad838f-f2bf-4d4f-b5ec-22a308c87aa5",
   "metadata": {},
   "outputs": [],
   "source": [
    "zmin,zmax=0.6,0.8\n",
    "cont_fn = f'/global/cscratch1/sd/arosado/DESImockbaofits/Abacus/LRG/contaminated/AperpAparfits_LRGab_JM{zmin}{zmax}0.43.04.08.0_4Pre.txt'\n",
    "corr_fn = f'/global/cscratch1/sd/arosado/DESImockbaofits/Abacus/LRG/mitigated/AperpAparfits_LRGab_JM{zmin}{zmax}0.43.04.08.0_4Pre.txt'\n",
    "null_fn = f'/global/cscratch1/sd/arosado/DESImockbaofits/Abacus/LRG/null/AperpAparfits_LRGab_JM{zmin}{zmax}0.43.04.08.0_4Pre.txt'"
   ]
  },
  {
   "cell_type": "code",
   "execution_count": 4,
   "id": "737ca24d-a37a-4d50-9874-ebd02ca147ed",
   "metadata": {},
   "outputs": [
    {
     "name": "stdout",
     "output_type": "stream",
     "text": [
      "contaminated mocks (0.6<z<0.8): \n",
      "<alpha_||> = 0.991420 +/- 0.026721 \n",
      "<alpha_perp> = 1.003054 +/- 0.011815 \n",
      "\n",
      "mitigated mocks (0.6<z<0.8): \n",
      "<alpha_||> = 0.991444 +/- 0.026670 \n",
      "<alpha_perp> = 1.003058 +/- 0.011781 \n",
      "\n",
      "null mocks (0.6<z<0.8): \n",
      "<alpha_||> = 0.991622 +/- 0.026924 \n",
      "<alpha_perp> = 1.002816 +/- 0.011784 \n"
     ]
    }
   ],
   "source": [
    "Apar, Aperp = AparAperp_mean(cont_fn)\n",
    "print(f\"contaminated mocks ({zmin}<z<{zmax}): \")\n",
    "print(f\"<alpha_||> = {Apar[0]:.6f} +/- {Apar[1]:.6f} \")\n",
    "print(f\"<alpha_perp> = {Aperp[0]:.6f} +/- {Aperp[1]:.6f} \")\n",
    "\n",
    "Apar, Aperp = AparAperp_mean(corr_fn)\n",
    "print(f\"\\nmitigated mocks ({zmin}<z<{zmax}): \")\n",
    "print(f\"<alpha_||> = {Apar[0]:.6f} +/- {Apar[1]:.6f} \")\n",
    "print(f\"<alpha_perp> = {Aperp[0]:.6f} +/- {Aperp[1]:.6f} \")\n",
    "\n",
    "Apar, Aperp = AparAperp_mean(null_fn)\n",
    "print(f\"\\nnull mocks ({zmin}<z<{zmax}): \")\n",
    "print(f\"<alpha_||> = {Apar[0]:.6f} +/- {Apar[1]:.6f} \")\n",
    "print(f\"<alpha_perp> = {Aperp[0]:.6f} +/- {Aperp[1]:.6f} \")"
   ]
  },
  {
   "cell_type": "code",
   "execution_count": 7,
   "id": "39fe552b-6190-4251-ac19-597ee053b4a5",
   "metadata": {},
   "outputs": [
    {
     "data": {
      "text/plain": [
       "(-0.00020200000000003548, 0.00023799999999996047)"
      ]
     },
     "execution_count": 7,
     "metadata": {},
     "output_type": "execute_result"
    }
   ],
   "source": [
    "# comparing contaminated mocks to null mocks\n",
    "0.991420 - 0.991622, 1.003054 - 1.002816"
   ]
  },
  {
   "cell_type": "code",
   "execution_count": 8,
   "id": "6d053939-f9f6-4023-95b2-fcc6da30c268",
   "metadata": {},
   "outputs": [
    {
     "data": {
      "text/plain": [
       "(-0.00017800000000001148, 0.0002420000000000755)"
      ]
     },
     "execution_count": 8,
     "metadata": {},
     "output_type": "execute_result"
    }
   ],
   "source": [
    "# comparing mitigated mocks to null mocks\n",
    "0.991444 - 0.991622, 1.003058 - 1.002816"
   ]
  },
  {
   "cell_type": "code",
   "execution_count": 5,
   "id": "26ec7150-5787-46a3-80cf-602acd379a18",
   "metadata": {},
   "outputs": [
    {
     "name": "stdout",
     "output_type": "stream",
     "text": [
      "comparing contaminated mocks to null mocks\n",
      "delta_<alpha_||> = 0.000202 +/- 0.000888 \n",
      "delta_<alpha_perp> = -0.000238 +/- 0.000375 \n",
      "\n",
      "comparing mitigated mocks to null mocks\n",
      "delta_<alpha_||> = 0.000178 +/- 0.000822 \n",
      "delta_<alpha_perp> = -0.000242 +/- 0.000360 \n"
     ]
    }
   ],
   "source": [
    "delta_Apar, delta_Aperp = delta_alpha(cont_fn, null_fn)\n",
    "print(\"comparing contaminated mocks to null mocks\")\n",
    "print(f\"delta_<alpha_||> = {delta_Apar[0]:.6f} +/- {delta_Apar[1]:.6f} \")\n",
    "print(f\"delta_<alpha_perp> = {delta_Aperp[0]:.6f} +/- {delta_Aperp[1]:.6f} \")\n",
    "\n",
    "print(\"\")\n",
    "delta_Apar, delta_Aperp = delta_alpha(corr_fn, null_fn)\n",
    "print(\"comparing mitigated mocks to null mocks\")\n",
    "print(f\"delta_<alpha_||> = {delta_Apar[0]:.6f} +/- {delta_Apar[1]:.6f} \")\n",
    "print(f\"delta_<alpha_perp> = {delta_Aperp[0]:.6f} +/- {delta_Aperp[1]:.6f} \")"
   ]
  },
  {
   "cell_type": "code",
   "execution_count": null,
   "id": "e8e896d2-b8f8-4d31-9795-c8f57f05e37b",
   "metadata": {},
   "outputs": [],
   "source": []
  }
 ],
 "metadata": {
  "kernelspec": {
   "display_name": "DESI 21.3",
   "language": "python",
   "name": "desi-21.3"
  },
  "language_info": {
   "codemirror_mode": {
    "name": "ipython",
    "version": 3
   },
   "file_extension": ".py",
   "mimetype": "text/x-python",
   "name": "python",
   "nbconvert_exporter": "python",
   "pygments_lexer": "ipython3",
   "version": "3.8.3"
  }
 },
 "nbformat": 4,
 "nbformat_minor": 5
}
