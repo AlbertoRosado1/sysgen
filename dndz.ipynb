{
 "cells": [
  {
   "cell_type": "code",
   "execution_count": 1,
   "id": "64461cff-3872-4481-a013-fd6b1740fad7",
   "metadata": {},
   "outputs": [],
   "source": [
    "import sys\n",
    "sys.path.append(\"/global/homes/a/arosado/\")\n",
    "from prepare_data import prepare_LRGmock_data, maps_dr9, hpixsum\n",
    "from astropy.table import Table, vstack\n",
    "\n",
    "import os\n",
    "import utils as ut\n",
    "import healpy as hp\n",
    "import numpy as np\n",
    "import matplotlib.pyplot as plt\n",
    "from scipy import interpolate"
   ]
  },
  {
   "cell_type": "code",
   "execution_count": null,
   "id": "842874a9-ca3e-4313-b3e1-b71103fcb19a",
   "metadata": {},
   "outputs": [],
   "source": [
    "%%time\n",
    "norm_method = 'mean'\n",
    "mock_main = ut.get_mock(contaminated=False, selection_fn=None, nside=256, norm_method=norm_method,\n",
    "                        tracer='LRG', ph=0, main=1, nz=0, Y5=1, sv3=0)\n",
    "mock_raw = ut.get_mock(contaminated=False, selection_fn=None, nside=256, norm_method=norm_method,\n",
    "                       tracer='LRG', ph=0, main=0, nz=0, Y5=1, sv3=0)"
   ]
  },
  {
   "cell_type": "code",
   "execution_count": null,
   "id": "047e6598-e090-46ad-a657-d0b53faa7af2",
   "metadata": {},
   "outputs": [],
   "source": [
    "dndz_main = Table()\n",
    "dndz_raw = Table()\n",
    "bins = 1000\n",
    "\n",
    "n_raw, z_raw = np.histogram(mock_raw['Z'], bins=bins)\n",
    "bc_raw = (z_raw[:-1] + z_raw[1:])/2.\n",
    "dndz_raw.add_column(bc_raw, name='zmid')\n",
    "dndz_raw.add_column(n_raw, name='n(z)')\n",
    "\n",
    "n_main, z_main = np.histogram(mock_main['Z'], bins=bins)\n",
    "bc_main = (z_main[:-1] + z_main[1:])/2.\n",
    "dndz_main.add_column(bc_main, name='zmid')\n",
    "dndz_main.add_column(n_main, name='n(z)')\n",
    "\n",
    "plt.plot(dndz_raw['zmid'], dndz_raw['n(z)'], label='dndz: main=0,Y5=1')\n",
    "plt.plot(dndz_main['zmid'], dndz_main['n(z)'], label='dndz: main=1,Y5=1')\n",
    "plt.legend()\n",
    "plt.show()"
   ]
  },
  {
   "cell_type": "code",
   "execution_count": 5,
   "id": "0b13794c-b3e2-42d0-8e47-c89f9fd34dbc",
   "metadata": {},
   "outputs": [],
   "source": [
    "dndz_main.write('LRG_nz_main.fits', format='fits')\n",
    "dndz_raw.write('LRG_nz_raw.fits', format='fits')"
   ]
  },
  {
   "cell_type": "code",
   "execution_count": 6,
   "id": "4ef0cd5c-798b-468f-976c-d7db007d333b",
   "metadata": {},
   "outputs": [],
   "source": [
    "# read files\n",
    "raw = Table.read('LRG_nz_raw.fits')\n",
    "main = Table.read('LRG_nz_main.fits')"
   ]
  },
  {
   "cell_type": "code",
   "execution_count": 9,
   "id": "af835f0e-2a7d-4ee3-bb21-6ef296725a74",
   "metadata": {},
   "outputs": [],
   "source": [
    "f_main = interpolate.interp1d(main['zmid'], main['n(z)'], fill_value='extrapolate')\n",
    "f_raw = interpolate.interp1d(raw['zmid'], raw['n(z)'], fill_value='extrapolate')"
   ]
  },
  {
   "cell_type": "code",
   "execution_count": 10,
   "id": "f4c926ca-d24b-414d-8230-acfe40f44bee",
   "metadata": {},
   "outputs": [],
   "source": [
    "n_main = f_main(mock_main['Z'])\n",
    "n_raw = f_raw(mock_raw['Z'])"
   ]
  },
  {
   "cell_type": "code",
   "execution_count": null,
   "id": "c98574f6-f647-4686-83ca-fe05fc90b134",
   "metadata": {},
   "outputs": [],
   "source": []
  },
  {
   "cell_type": "code",
   "execution_count": null,
   "id": "bb251cff-1c79-4d6a-be2d-fd84e69f0b63",
   "metadata": {},
   "outputs": [],
   "source": []
  },
  {
   "cell_type": "code",
   "execution_count": 14,
   "id": "36e0bc8e-ce3f-4192-9826-bbbb7f464b57",
   "metadata": {},
   "outputs": [
    {
     "data": {
      "image/png": "[encoded data removed]",
      "text/plain": [
       "<Figure size 432x288 with 1 Axes>"
      ]
     },
     "metadata": {
      "needs_background": "light"
     },
     "output_type": "display_data"
    }
   ],
   "source": [
    "# do not rerun this cell, cell takes a lot of time to plot\n",
    "plt.scatter(mock_raw['Z'], n_raw, 0.5, color='r', label='dndz main=0,Y5=1')\n",
    "plt.scatter(mock_main['Z'], n_main, 0.5, color='k', label='dndz main=1,Y5=1')\n",
    "plt.legend()\n",
    "plt.show()"
   ]
  },
  {
   "cell_type": "markdown",
   "id": "8bcf5ff6-471f-4eb8-883b-74257e6e930b",
   "metadata": {},
   "source": [
    "# Apply to mock contamination"
   ]
  },
  {
   "cell_type": "code",
   "execution_count": 2,
   "id": "743aed38-d50d-48d3-a372-860c820bf827",
   "metadata": {},
   "outputs": [],
   "source": [
    "nn_test1 = hp.read_map(f'/global/cscratch1/sd/arosado/test_sysnet/windows_clean_test1/nn-weights.hp256.fits')"
   ]
  },
  {
   "cell_type": "code",
   "execution_count": 5,
   "id": "b554deaf-a57f-45a8-ba46-2b20f85d67f6",
   "metadata": {},
   "outputs": [
    {
     "name": "stdout",
     "output_type": "stream",
     "text": [
      "using /global/cfs/cdirs/desi/cosmosim/FirstGenMocks/AbacusSummit/CutSky/LRG/z0.800/cutsky_LRG_z0.800_AbacusSummit_base_c000_ph000.fits\n",
      "applying mask: main=1, nz=0, Y5=1, sv3=0\n",
      "using /global/cfs/cdirs/desi/cosmosim/FirstGenMocks/AbacusSummit/CutSky/LRG/z0.800/cutsky_LRG_z0.800_AbacusSummit_base_c000_ph000.fits\n",
      "applying mask: main=0, nz=0, Y5=1, sv3=0\n",
      "using /global/cfs/cdirs/desi/cosmosim/FirstGenMocks/AbacusSummit/CutSky/LRG/z0.800/cutsky_LRG_z0.800_AbacusSummit_base_c000_ph000.fits\n",
      "applying mask: main=0, nz=0, Y5=1, sv3=0\n",
      "contaminating mock\n",
      "contamination using mean\n",
      "using frac when downsampling\n",
      "using /global/cfs/cdirs/desi/cosmosim/FirstGenMocks/AbacusSummit/CutSky/LRG/z0.800/cutsky_LRG_z0.800_AbacusSummit_base_c000_ph000.fits\n",
      "applying mask: main=0, nz=0, Y5=1, sv3=0\n",
      "contaminating mock\n",
      "contamination using mean\n",
      "CPU times: user 48.2 s, sys: 27.2 s, total: 1min 15s\n",
      "Wall time: 1min 16s\n"
     ]
    }
   ],
   "source": [
    "%%time\n",
    "norm_method = 'mean'\n",
    "downsampling = 'frac'\n",
    "nside = 256\n",
    "\n",
    "mock_main = ut.get_mock(contaminated=False, selection_fn=None, nside=nside, norm_method=norm_method, downsampling='mean',\n",
    "                        tracer='LRG', ph=0, main=1, nz=0, Y5=1, sv3=0)\n",
    "mock_raw = ut.get_mock(contaminated=False, selection_fn=None, nside=nside, norm_method=norm_method, downsampling='mean',\n",
    "                       tracer='LRG', ph=0, main=0, nz=0, Y5=1, sv3=0)\n",
    "mock_cont_frac = ut.get_mock(contaminated=True, selection_fn=nn_test1, nside=nside, norm_method=norm_method, downsampling=downsampling,\n",
    "                             tracer='LRG', ph=0, main=0, nz=0, Y5=1, sv3=0)\n",
    "mock_cont = ut.get_mock(contaminated=True, selection_fn=nn_test1, nside=nside, norm_method=norm_method, downsampling='mean',\n",
    "                        tracer='LRG', ph=0, main=0, nz=0, Y5=1, sv3=0)"
   ]
  },
  {
   "cell_type": "code",
   "execution_count": 12,
   "id": "50e551e0-75f1-4531-a8e7-01a1831cfc2c",
   "metadata": {},
   "outputs": [
    {
     "data": {
      "image/png": "[encoded data removed]",
      "text/plain": [
       "<Figure size 504x360 with 1 Axes>"
      ]
     },
     "metadata": {
      "needs_background": "light"
     },
     "output_type": "display_data"
    }
   ],
   "source": [
    "kw = dict(histtype='step', bins=100)\n",
    "font = 14\n",
    "fig = plt.gcf()\n",
    "fig.set_size_inches(7, 5)\n",
    "\n",
    "plt.hist(mock_main['Z'], label='main', **kw)\n",
    "plt.hist(mock_raw['Z'], label='raw', **kw)\n",
    "plt.hist(mock_cont_frac['Z'], label='frac', **kw)\n",
    "plt.hist(mock_cont['Z'], label='mean', **kw)\n",
    "\n",
    "plt.legend(loc='upper left')\n",
    "plt.ylabel('ngal', fontsize=font)\n",
    "plt.xlabel('redshift', fontsize=font)\n",
    "fn = os.path.join(f'hist_frac.png')\n",
    "#plt.savefig(fn, facecolor='white',bbox_inches='tight', pad_inches=0.1, dpi=200)\n",
    "plt.show()"
   ]
  },
  {
   "cell_type": "code",
   "execution_count": null,
   "id": "890c3609-cd4c-47a2-b338-1b5481ebe265",
   "metadata": {},
   "outputs": [],
   "source": []
  }
 ],
 "metadata": {
  "kernelspec": {
   "display_name": "regressis",
   "language": "python",
   "name": "regressis"
  },
  "language_info": {
   "codemirror_mode": {
    "name": "ipython",
    "version": 3
   },
   "file_extension": ".py",
   "mimetype": "text/x-python",
   "name": "python",
   "nbconvert_exporter": "python",
   "pygments_lexer": "ipython3",
   "version": "3.8.13"
  }
 },
 "nbformat": 4,
 "nbformat_minor": 5
}
