{
 "cells": [
  {
   "cell_type": "code",
   "execution_count": 1,
   "id": "886c83b4-aae9-47a5-aae0-833cb05ae53d",
   "metadata": {},
   "outputs": [],
   "source": [
    "%load_ext autoreload\n",
    "%autoreload 2"
   ]
  },
  {
   "cell_type": "code",
   "execution_count": 2,
   "id": "64461cff-3872-4481-a013-fd6b1740fad7",
   "metadata": {},
   "outputs": [],
   "source": [
    "import sys\n",
    "sys.path.append(\"/global/homes/a/arosado/\")\n",
    "from prepare_data import prepare_LRGmock_data, maps_dr9, hpixsum\n",
    "from astropy.table import Table, vstack\n",
    "\n",
    "import os\n",
    "import utils as ut\n",
    "import healpy as hp\n",
    "import numpy as np\n",
    "import matplotlib.pyplot as plt\n",
    "from scipy import interpolate"
   ]
  },
  {
   "cell_type": "code",
   "execution_count": 14,
   "id": "3c270685-65f9-4de6-a897-9969060fdece",
   "metadata": {},
   "outputs": [
    {
     "data": {
      "text/plain": [
       "['EBV',\n",
       " 'STARDENS',\n",
       " 'galdepth_rmag_ebv',\n",
       " 'galdepth_gmag_ebv',\n",
       " 'galdepth_zmag_ebv',\n",
       " 'psfdepth_rmag_ebv',\n",
       " 'psfdepth_gmag_ebv',\n",
       " 'psfdepth_zmag_ebv',\n",
       " 'psfdepth_w1mag_ebv',\n",
       " 'psfdepth_w2mag_ebv',\n",
       " 'PSFSIZE_R',\n",
       " 'PSFSIZE_G',\n",
       " 'PSFSIZE_Z']"
      ]
     },
     "execution_count": 14,
     "metadata": {},
     "output_type": "execute_result"
    }
   ],
   "source": [
    "maps_dr9"
   ]
  },
  {
   "cell_type": "code",
   "execution_count": 15,
   "id": "1910bcbd-ec78-480e-b297-34c2303a533e",
   "metadata": {},
   "outputs": [
    {
     "name": "stdout",
     "output_type": "stream",
     "text": [
      "EBV\n",
      "galdepth_zmag_ebv\n",
      "PSFSIZE_R\n"
     ]
    }
   ],
   "source": [
    "for i in range(len(maps_dr9)):\n",
    "    if i==0 or i==4 or i==10:\n",
    "        print(maps_dr9[i])"
   ]
  },
  {
   "cell_type": "code",
   "execution_count": null,
   "id": "842874a9-ca3e-4313-b3e1-b71103fcb19a",
   "metadata": {},
   "outputs": [],
   "source": [
    "%%time\n",
    "norm_method = 'mean'\n",
    "mock_main = ut.get_mock(contaminated=False, selection_fn=None, nside=256, norm_method=norm_method,\n",
    "                        tracer='LRG', ph=0, main=1, nz=0, Y5=1, sv3=0)\n",
    "mock_raw = ut.get_mock(contaminated=False, selection_fn=None, nside=256, norm_method=norm_method,\n",
    "                       tracer='LRG', ph=0, main=0, nz=0, Y5=1, sv3=0)"
   ]
  },
  {
   "cell_type": "code",
   "execution_count": null,
   "id": "047e6598-e090-46ad-a657-d0b53faa7af2",
   "metadata": {},
   "outputs": [],
   "source": [
    "dndz_main = Table()\n",
    "dndz_raw = Table()\n",
    "bins = 1000\n",
    "\n",
    "n_raw, z_raw = np.histogram(mock_raw['Z'], bins=bins)\n",
    "bc_raw = (z_raw[:-1] + z_raw[1:])/2.\n",
    "dndz_raw.add_column(bc_raw, name='zmid')\n",
    "dndz_raw.add_column(n_raw, name='n(z)')\n",
    "\n",
    "n_main, z_main = np.histogram(mock_main['Z'], bins=bins)\n",
    "bc_main = (z_main[:-1] + z_main[1:])/2.\n",
    "dndz_main.add_column(bc_main, name='zmid')\n",
    "dndz_main.add_column(n_main, name='n(z)')\n",
    "\n",
    "plt.plot(dndz_raw['zmid'], dndz_raw['n(z)'], label='dndz: main=0,Y5=1')\n",
    "plt.plot(dndz_main['zmid'], dndz_main['n(z)'], label='dndz: main=1,Y5=1')\n",
    "plt.legend()\n",
    "plt.show()"
   ]
  },
  {
   "cell_type": "code",
   "execution_count": 5,
   "id": "0b13794c-b3e2-42d0-8e47-c89f9fd34dbc",
   "metadata": {},
   "outputs": [],
   "source": [
    "dndz_main.write('LRG_nz_main.fits', format='fits')\n",
    "dndz_raw.write('LRG_nz_raw.fits', format='fits')"
   ]
  },
  {
   "cell_type": "code",
   "execution_count": 6,
   "id": "4ef0cd5c-798b-468f-976c-d7db007d333b",
   "metadata": {},
   "outputs": [],
   "source": [
    "# read files\n",
    "raw = Table.read('LRG_nz_raw.fits')\n",
    "main = Table.read('LRG_nz_main.fits')"
   ]
  },
  {
   "cell_type": "code",
   "execution_count": 9,
   "id": "af835f0e-2a7d-4ee3-bb21-6ef296725a74",
   "metadata": {},
   "outputs": [],
   "source": [
    "f_main = interpolate.interp1d(main['zmid'], main['n(z)'], fill_value='extrapolate')\n",
    "f_raw = interpolate.interp1d(raw['zmid'], raw['n(z)'], fill_value='extrapolate')"
   ]
  },
  {
   "cell_type": "code",
   "execution_count": 10,
   "id": "f4c926ca-d24b-414d-8230-acfe40f44bee",
   "metadata": {},
   "outputs": [],
   "source": [
    "n_main = f_main(mock_main['Z'])\n",
    "n_raw = f_raw(mock_raw['Z'])"
   ]
  },
  {
   "cell_type": "code",
   "execution_count": null,
   "id": "c98574f6-f647-4686-83ca-fe05fc90b134",
   "metadata": {},
   "outputs": [],
   "source": []
  },
  {
   "cell_type": "code",
   "execution_count": null,
   "id": "bb251cff-1c79-4d6a-be2d-fd84e69f0b63",
   "metadata": {},
   "outputs": [],
   "source": []
  },
  {
   "cell_type": "code",
   "execution_count": 14,
   "id": "36e0bc8e-ce3f-4192-9826-bbbb7f464b57",
   "metadata": {},
   "outputs": [
    {
     "data": {
      "image/png": "[encoded data removed]",
      "text/plain": [
       "<Figure size 432x288 with 1 Axes>"
      ]
     },
     "metadata": {
      "needs_background": "light"
     },
     "output_type": "display_data"
    }
   ],
   "source": [
    "# do not rerun this cell, cell takes a lot of time to plot\n",
    "plt.scatter(mock_raw['Z'], n_raw, 0.5, color='r', label='dndz main=0,Y5=1')\n",
    "plt.scatter(mock_main['Z'], n_main, 0.5, color='k', label='dndz main=1,Y5=1')\n",
    "plt.legend()\n",
    "plt.show()"
   ]
  },
  {
   "cell_type": "markdown",
   "id": "8bcf5ff6-471f-4eb8-883b-74257e6e930b",
   "metadata": {},
   "source": [
    "# Apply to mock contamination"
   ]
  },
  {
   "cell_type": "code",
   "execution_count": 3,
   "id": "743aed38-d50d-48d3-a372-860c820bf827",
   "metadata": {},
   "outputs": [],
   "source": [
    "nn_test1 = hp.read_map(f'/global/cscratch1/sd/arosado/test_sysnet/windows_clean_test1/nn-weights.hp256.fits')"
   ]
  },
  {
   "cell_type": "code",
   "execution_count": 3,
   "id": "b554deaf-a57f-45a8-ba46-2b20f85d67f6",
   "metadata": {},
   "outputs": [
    {
     "name": "stdout",
     "output_type": "stream",
     "text": [
      "using /global/cfs/cdirs/desi/cosmosim/FirstGenMocks/AbacusSummit/CutSky/LRG/z0.800/cutsky_LRG_z0.800_AbacusSummit_base_c000_ph000.fits\n",
      "applying mask: main=1, nz=0, Y5=1, sv3=0\n",
      "using /global/cfs/cdirs/desi/cosmosim/FirstGenMocks/AbacusSummit/CutSky/LRG/z0.800/cutsky_LRG_z0.800_AbacusSummit_base_c000_ph000.fits\n",
      "applying mask: main=0, nz=0, Y5=1, sv3=0\n",
      "using /global/cfs/cdirs/desi/cosmosim/FirstGenMocks/AbacusSummit/CutSky/LRG/z0.800/cutsky_LRG_z0.800_AbacusSummit_base_c000_ph000.fits\n",
      "applying mask: main=0, nz=0, Y5=1, sv3=0\n",
      "contaminating mock\n",
      "contamination using mean\n",
      "using frac when downsampling\n",
      "using /global/cfs/cdirs/desi/cosmosim/FirstGenMocks/AbacusSummit/CutSky/LRG/z0.800/cutsky_LRG_z0.800_AbacusSummit_base_c000_ph000.fits\n",
      "applying mask: main=0, nz=0, Y5=1, sv3=0\n",
      "contaminating mock\n",
      "contamination using mean\n",
      "CPU times: user 47.3 s, sys: 27.3 s, total: 1min 14s\n",
      "Wall time: 1min 15s\n"
     ]
    }
   ],
   "source": [
    "%%time\n",
    "norm_method = 'mean'\n",
    "downsampling = 'frac'\n",
    "nside = 256\n",
    "\n",
    "mock_main = ut.get_mock(contaminated=False, selection_fn=None, nside=nside, norm_method=norm_method, downsampling='mean',\n",
    "                        tracer='LRG', ph=0, main=1, nz=0, Y5=1, sv3=0)\n",
    "mock_raw = ut.get_mock(contaminated=False, selection_fn=None, nside=nside, norm_method=norm_method, downsampling='mean',\n",
    "                       tracer='LRG', ph=0, main=0, nz=0, Y5=1, sv3=0)\n",
    "mock_cont_frac = ut.get_mock(contaminated=True, selection_fn=nn_test1, nside=nside, norm_method=norm_method, downsampling=downsampling,\n",
    "                             tracer='LRG', ph=0, main=0, nz=0, Y5=1, sv3=0)\n",
    "mock_cont = ut.get_mock(contaminated=True, selection_fn=nn_test1, nside=nside, norm_method=norm_method, downsampling='mean',\n",
    "                        tracer='LRG', ph=0, main=0, nz=0, Y5=1, sv3=0)"
   ]
  },
  {
   "cell_type": "code",
   "execution_count": 4,
   "id": "1b21e4d8-d132-4670-9328-467403a7350e",
   "metadata": {},
   "outputs": [
    {
     "data": {
      "image/png": "[encoded data removed]",
      "text/plain": [
       "<Figure size 504x360 with 1 Axes>"
      ]
     },
     "metadata": {
      "needs_background": "light"
     },
     "output_type": "display_data"
    }
   ],
   "source": [
    "kw = dict(histtype='step', bins=100)\n",
    "font = 14\n",
    "fig = plt.gcf()\n",
    "fig.set_size_inches(7, 5)\n",
    "\n",
    "plt.hist(mock_main['Z'], label='main', **kw)\n",
    "plt.hist(mock_raw['Z'], label='raw', **kw)\n",
    "plt.hist(mock_cont_frac['Z'], label='frac', **kw)\n",
    "plt.hist(mock_cont['Z'], label='mean', **kw)\n",
    "\n",
    "plt.legend(loc='upper left')\n",
    "plt.ylabel('ngal', fontsize=font)\n",
    "plt.xlabel('redshift', fontsize=font)\n",
    "fn = os.path.join(f'hist_frac.png')\n",
    "#plt.savefig(fn, facecolor='white',bbox_inches='tight', pad_inches=0.1, dpi=200)\n",
    "plt.show()"
   ]
  },
  {
   "cell_type": "code",
   "execution_count": 4,
   "id": "5bbcb59a-31e9-4c55-ba21-64c0e5bf5396",
   "metadata": {},
   "outputs": [
    {
     "name": "stdout",
     "output_type": "stream",
     "text": [
      "using /global/cfs/cdirs/desi/cosmosim/FirstGenMocks/AbacusSummit/CutSky/LRG/z0.800/cutsky_LRG_z0.800_AbacusSummit_base_c000_ph000.fits\n",
      "applying mask: main=1, nz=0, Y5=1, sv3=0\n",
      "using /global/cfs/cdirs/desi/cosmosim/FirstGenMocks/AbacusSummit/CutSky/LRG/z0.800/cutsky_LRG_z0.800_AbacusSummit_base_c000_ph000.fits\n",
      "applying mask: main=0, nz=0, Y5=1, sv3=0\n",
      "using /global/cfs/cdirs/desi/cosmosim/FirstGenMocks/AbacusSummit/CutSky/LRG/z0.800/cutsky_LRG_z0.800_AbacusSummit_base_c000_ph000.fits\n",
      "applying mask: main=0, nz=0, Y5=1, sv3=0\n",
      "contaminating mock\n",
      "using mean for normalizing selection function\n",
      "shuffling selection function\n",
      "using frac when downsampling\n",
      "using /global/cfs/cdirs/desi/cosmosim/FirstGenMocks/AbacusSummit/CutSky/LRG/z0.800/cutsky_LRG_z0.800_AbacusSummit_base_c000_ph000.fits\n",
      "applying mask: main=0, nz=0, Y5=1, sv3=0\n",
      "contaminating mock\n",
      "using mean for normalizing selection function\n",
      "using frac when downsampling\n",
      "using /global/cfs/cdirs/desi/cosmosim/FirstGenMocks/AbacusSummit/CutSky/LRG/z0.800/cutsky_LRG_z0.800_AbacusSummit_base_c000_ph000.fits\n",
      "applying mask: main=0, nz=0, Y5=1, sv3=0\n",
      "contaminating mock\n",
      "using mean for normalizing selection function\n",
      "using frac when downsampling\n",
      "CPU times: user 1min 16s, sys: 43.9 s, total: 2min\n",
      "Wall time: 2min 2s\n"
     ]
    }
   ],
   "source": [
    "%%time\n",
    "norm_method = 'mean'\n",
    "downsampling = 'frac'\n",
    "nside = 256\n",
    "\n",
    "mock_main = ut.get_mock(contaminated=False, selection_fn=None, nside=nside, norm_method=norm_method, downsampling='mean',\n",
    "                        tracer='LRG', ph=0, main=1, nz=0, Y5=1, sv3=0)\n",
    "\n",
    "mock_raw = ut.get_mock(contaminated=False, selection_fn=None, nside=nside, norm_method=norm_method, downsampling='mean',\n",
    "                       tracer='LRG', ph=0, main=0, nz=0, Y5=1, sv3=0)\n",
    "\n",
    "mock_sh_frac = ut.get_mock(contaminated=True, selection_fn=nn_test1, nside=nside, norm_method=norm_method, downsampling=downsampling,\n",
    "                       do_shuffle=True, tracer='LRG', ph=0, main=0, nz=0, Y5=1, sv3=0)\n",
    "\n",
    "mock_uni_frac = ut.get_mock(contaminated=True, selection_fn=nn_test1, nside=nside, norm_method=norm_method, downsampling=downsampling,\n",
    "                       ignore_prob=True, tracer='LRG', ph=0, main=0, nz=0, Y5=1, sv3=0)\n",
    "\n",
    "mock_cont_frac = ut.get_mock(contaminated=True, selection_fn=nn_test1, nside=nside, norm_method=norm_method, downsampling=downsampling,\n",
    "                             tracer='LRG', ph=0, main=0, nz=0, Y5=1, sv3=0)\n",
    "#mock_cont = ut.get_mock(contaminated=True, selection_fn=nn_test1, nside=nside, norm_method=norm_method, downsampling='mean',\n",
    "#                        tracer='LRG', ph=0, main=0, nz=0, Y5=1, sv3=0)"
   ]
  },
  {
   "cell_type": "code",
   "execution_count": 10,
   "id": "71bdaff0-7d09-48f4-9cbb-5598ea1c850e",
   "metadata": {},
   "outputs": [
    {
     "name": "stdout",
     "output_type": "stream",
     "text": [
      "using /global/cfs/cdirs/desi/cosmosim/FirstGenMocks/AbacusSummit/CutSky/LRG/z0.800/cutsky_LRG_z0.800_AbacusSummit_base_c000_ph000.fits\n",
      "applying mask: main=1, nz=0, Y5=1, sv3=0\n",
      "CPU times: user 2.49 s, sys: 4.11 s, total: 6.61 s\n",
      "Wall time: 6.73 s\n"
     ]
    }
   ],
   "source": [
    "%%time\n",
    "norm_method = 'mean'\n",
    "downsampling = 'frac'\n",
    "nside = 256\n",
    "\n",
    "mock_main = ut.get_mock(contaminated=False, selection_fn=None, nside=nside, norm_method=norm_method, downsampling='mean',\n",
    "                        tracer='LRG', ph=0, main=1, nz=0, Y5=1, sv3=0)"
   ]
  },
  {
   "cell_type": "code",
   "execution_count": 12,
   "id": "50e551e0-75f1-4531-a8e7-01a1831cfc2c",
   "metadata": {},
   "outputs": [
    {
     "data": {
      "image/png": "[encoded data removed]",
      "text/plain": [
       "<Figure size 504x360 with 1 Axes>"
      ]
     },
     "metadata": {
      "needs_background": "light"
     },
     "output_type": "display_data"
    }
   ],
   "source": [
    "kw = dict(histtype='step', bins=100)\n",
    "font = 14\n",
    "fig = plt.gcf()\n",
    "fig.set_size_inches(7, 5)\n",
    "\n",
    "#plt.hist(mock_main['Z'], label='main', lw=4, alpha=0.5, **kw)\n",
    "#plt.hist(mock_raw['Z'], label='raw', **kw)\n",
    "#plt.hist(mock_uni_frac['Z'], label='uni frac', **kw)\n",
    "plt.hist(mock_main['Z'], label='main (original)', **kw)\n",
    "plt.hist(mock_cont_frac['Z'], label='cont (downsampled)', color='r', **kw)\n",
    "plt.hist(mock_sh_frac['Z'], ls='--', label='null (downsampled)', color='k', **kw)\n",
    "\n",
    "plt.legend(loc='upper left')\n",
    "plt.ylabel('ngal', fontsize=font)\n",
    "plt.xlabel('redshift', fontsize=font)\n",
    "fn = os.path.join(f'hist_frac_compare3.png')\n",
    "plt.savefig(fn, facecolor='white',bbox_inches='tight', pad_inches=0.1, dpi=200)\n",
    "plt.show()"
   ]
  },
  {
   "cell_type": "code",
   "execution_count": null,
   "id": "416bb6b2-525d-401d-9d7f-476b26a70ef1",
   "metadata": {},
   "outputs": [],
   "source": []
  },
  {
   "cell_type": "code",
   "execution_count": null,
   "id": "cabab471-72f1-410e-b60d-8d7cebc5d6a0",
   "metadata": {},
   "outputs": [],
   "source": []
  },
  {
   "cell_type": "code",
   "execution_count": null,
   "id": "c6cf6f27-e81d-4b93-a244-4980b95346cb",
   "metadata": {},
   "outputs": [],
   "source": []
  },
  {
   "cell_type": "code",
   "execution_count": 5,
   "id": "884d053e-2dd7-4934-b635-d782328d6047",
   "metadata": {},
   "outputs": [
    {
     "data": {
      "text/plain": [
       "array([0.9600173 , 0.69951205, 0.99986729, 0.2200673 , 0.36105635,\n",
       "       0.73984099, 0.99645573, 0.31634698, 0.13654458, 0.38398001])"
      ]
     },
     "execution_count": 5,
     "metadata": {},
     "output_type": "execute_result"
    }
   ],
   "source": [
    "import numpy as np\n",
    "seed = 24\n",
    "np.random.seed(seed=seed)\n",
    "np.random.uniform(size=10)"
   ]
  },
  {
   "cell_type": "code",
   "execution_count": 6,
   "id": "de65a634-c41d-4689-acb8-d7d7ea544c21",
   "metadata": {},
   "outputs": [
    {
     "data": {
      "text/plain": [
       "array([0.01749027, 0.89157327, 0.28486117, 0.29897638, 0.79203426,\n",
       "       0.3244706 , 0.86471039, 0.44751263, 0.54822991, 0.35717199])"
      ]
     },
     "execution_count": 6,
     "metadata": {},
     "output_type": "execute_result"
    }
   ],
   "source": [
    "np.random.seed(seed=seed*2)\n",
    "np.random.uniform(size=10)"
   ]
  },
  {
   "cell_type": "code",
   "execution_count": 7,
   "id": "a21c30c2-08f8-452c-b8f6-5e42bc114422",
   "metadata": {},
   "outputs": [
    {
     "data": {
      "text/plain": [
       "array([0.9600173 , 0.69951205, 0.99986729, 0.2200673 , 0.36105635,\n",
       "       0.73984099, 0.99645573, 0.31634698, 0.13654458, 0.38398001])"
      ]
     },
     "execution_count": 7,
     "metadata": {},
     "output_type": "execute_result"
    }
   ],
   "source": [
    "np.random.seed(seed=seed)\n",
    "np.random.uniform(size=10)"
   ]
  },
  {
   "cell_type": "code",
   "execution_count": null,
   "id": "10726b74-b4c1-4771-9f65-547ce54e01ec",
   "metadata": {},
   "outputs": [],
   "source": []
  }
 ],
 "metadata": {
  "kernelspec": {
   "display_name": "regressis",
   "language": "python",
   "name": "regressis"
  },
  "language_info": {
   "codemirror_mode": {
    "name": "ipython",
    "version": 3
   },
   "file_extension": ".py",
   "mimetype": "text/x-python",
   "name": "python",
   "nbconvert_exporter": "python",
   "pygments_lexer": "ipython3",
   "version": "3.8.13"
  }
 },
 "nbformat": 4,
 "nbformat_minor": 5
}
